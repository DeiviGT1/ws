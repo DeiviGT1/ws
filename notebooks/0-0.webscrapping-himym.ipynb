{
 "cells": [
  {
   "cell_type": "code",
   "execution_count": 82,
   "metadata": {},
   "outputs": [
    {
     "name": "stdout",
     "output_type": "stream",
     "text": [
      "The autoreload extension is already loaded. To reload it, use:\n",
      "  %reload_ext autoreload\n"
     ]
    }
   ],
   "source": [
    "%load_ext autoreload\n",
    "%autoreload"
   ]
  },
  {
   "cell_type": "code",
   "execution_count": 83,
   "metadata": {},
   "outputs": [],
   "source": [
    "#create a code that using selenium opens a browser and goes to starplus.com\n",
    "\n",
    "from selenium import webdriver\n",
    "from selenium.webdriver.common.by import By\n",
    "from selenium.webdriver.support.ui import WebDriverWait\n",
    "from selenium.webdriver.support import expected_conditions as EC\n",
    "\n",
    "import time\n",
    "import os\n",
    "from dotenv import load_dotenv\n",
    "\n",
    "load_dotenv()\n",
    "\n",
    "user_name = os.getenv(\"STARPLUS_USERNAME\")\n",
    "password = os.getenv(\"STARPLUS_PASSWORD\")\n",
    "\n",
    "driver = webdriver.Chrome()\n",
    "driver.get(\"https://www.starplus.com\")\n",
    "\n",
    "wait = WebDriverWait(driver, 20)\n",
    "\n",
    "#click on the login button\n",
    "\n"
   ]
  },
  {
   "cell_type": "code",
   "execution_count": 84,
   "metadata": {},
   "outputs": [],
   "source": [
    "#login\n",
    "\n",
    "path = './/a[@href=\"/login\"]'\n",
    "login_button = driver.find_element(By.XPATH, path)\n",
    "login_button.click()\n",
    "\n",
    "time.sleep(10)"
   ]
  },
  {
   "cell_type": "code",
   "execution_count": 85,
   "metadata": {},
   "outputs": [],
   "source": [
    "#enter email\n",
    "path = './/input[@id=\"email\"]'\n",
    "email_field = driver.find_element(By.XPATH, path)\n",
    "email_field.send_keys(f\"{user_name}\")"
   ]
  },
  {
   "cell_type": "code",
   "execution_count": 86,
   "metadata": {},
   "outputs": [
    {
     "data": {
      "text/plain": [
       "<selenium.webdriver.remote.webelement.WebElement (session=\"e36eb645386c0ea6b1227926fbfe302e\", element=\"EC77B31682574C5990162895B0F7BF3A_element_20\")>"
      ]
     },
     "execution_count": 86,
     "metadata": {},
     "output_type": "execute_result"
    }
   ],
   "source": [
    "#click on continuar\n",
    "path = './/button[@aria-label=\"Aceptar y continuar\"]'\n",
    "continue_button = driver.find_element(By.XPATH, path)\n",
    "continue_button.click()\n",
    "\n",
    "wait.until(EC.presence_of_element_located((By.XPATH, './/input[@aria-label=\"Escribir contraseña\"]')))"
   ]
  },
  {
   "cell_type": "code",
   "execution_count": 87,
   "metadata": {},
   "outputs": [],
   "source": [
    "#enter password\n",
    "path = './/input[@aria-label=\"Escribir contraseña\"]'\n",
    "password_field = driver.find_element(By.XPATH, path)\n",
    "password_field.send_keys(f\"{password}\")"
   ]
  },
  {
   "cell_type": "code",
   "execution_count": 88,
   "metadata": {},
   "outputs": [
    {
     "data": {
      "text/plain": [
       "<selenium.webdriver.remote.webelement.WebElement (session=\"e36eb645386c0ea6b1227926fbfe302e\", element=\"EC77B31682574C5990162895B0F7BF3A_element_32\")>"
      ]
     },
     "execution_count": 88,
     "metadata": {},
     "output_type": "execute_result"
    }
   ],
   "source": [
    "#click on inicar sesion\n",
    "path = './/button[@aria-label=\"INICIAR SESIÓN\"]'\n",
    "login_button = driver.find_element(By.XPATH, path)\n",
    "login_button.click()\n",
    "user = \"Jose\"\n",
    "wait.until(EC.presence_of_element_located((By.XPATH, f'.//h3[text()=\"{user}\"]')))"
   ]
  },
  {
   "cell_type": "code",
   "execution_count": 89,
   "metadata": {},
   "outputs": [
    {
     "data": {
      "text/plain": [
       "<selenium.webdriver.remote.webelement.WebElement (session=\"e36eb645386c0ea6b1227926fbfe302e\", element=\"EC77B31682574C5990162895B0F7BF3A_element_39\")>"
      ]
     },
     "execution_count": 89,
     "metadata": {},
     "output_type": "execute_result"
    }
   ],
   "source": [
    "#busca el h3 que tiene texto \"Jose\"\n",
    "\n",
    "user = \"Jose\"\n",
    "path = f'.//h3[text()=\"{user}\"]'\n",
    "user = driver.find_element(By.XPATH, path)\n",
    "user.click()\n",
    "\n",
    "wait.until(EC.presence_of_element_located((By.XPATH, './/a[@aria-label=\"BÚSQUEDA\"]')))"
   ]
  },
  {
   "cell_type": "code",
   "execution_count": 90,
   "metadata": {},
   "outputs": [
    {
     "data": {
      "text/plain": [
       "<selenium.webdriver.remote.webelement.WebElement (session=\"e36eb645386c0ea6b1227926fbfe302e\", element=\"EC77B31682574C5990162895B0F7BF3A_element_44\")>"
      ]
     },
     "execution_count": 90,
     "metadata": {},
     "output_type": "execute_result"
    }
   ],
   "source": [
    "#Encuentra el botn de busqueda\n",
    "path = './/a[@aria-label=\"BÚSQUEDA\"]'\n",
    "search_button = driver.find_element(By.XPATH, path)\n",
    "search_button.click()\n",
    "\n",
    "wait.until(EC.presence_of_element_located((By.XPATH, './/input[@aria-label=\"Título o equipo\"]')))"
   ]
  },
  {
   "cell_type": "code",
   "execution_count": 91,
   "metadata": {},
   "outputs": [],
   "source": [
    "#busca la serie\n",
    "serie = \"How I met your mother\"\n",
    "path = './/input[@aria-label=\"Título o equipo\"]'\n",
    "serie_field = driver.find_element(By.XPATH, path)\n",
    "serie_field.send_keys(f\"{serie}\")\n",
    "\n",
    "time.sleep(10)"
   ]
  },
  {
   "cell_type": "code",
   "execution_count": 93,
   "metadata": {},
   "outputs": [
    {
     "data": {
      "text/plain": [
       "<selenium.webdriver.remote.webelement.WebElement (session=\"e36eb645386c0ea6b1227926fbfe302e\", element=\"EC77B31682574C5990162895B0F7BF3A_element_83\")>"
      ]
     },
     "execution_count": 93,
     "metadata": {},
     "output_type": "execute_result"
    }
   ],
   "source": [
    "#get results\n",
    "path = './/div[@aria-label=\"Search results\"]/div[1]'\n",
    "results = driver.find_element(By.XPATH, path)\n",
    "results.click()\n",
    "\n",
    "wait.until(EC.presence_of_element_located((By.XPATH, './/div[@class=\"slick-track\"]')))"
   ]
  },
  {
   "cell_type": "code",
   "execution_count": 94,
   "metadata": {},
   "outputs": [],
   "source": [
    "#seasons\n",
    "path = './/div[@class=\"slick-track\"]'\n",
    "seasons = driver.find_element(By.XPATH, path)\n",
    "seasons_range =  range(1, len(seasons.text.split(\"\\n\")) + 1)\n",
    "\n",
    "serie = {}\n",
    "\n",
    "for season in seasons_range:\n",
    "    temp = f'.//div[@class=\"slick-track\"]/div[{season}]/div[1]'\n",
    "    season_button = driver.find_element(By.XPATH, temp)\n",
    "    season_button.click()\n",
    "    time.sleep(5)\n",
    "\n",
    "    path = f'.//div[@data-gv2containerkey=\"details_episodes\"]/div/div'\n",
    "    episodes = driver.find_element(By.XPATH, path)\n",
    "\n",
    "    current_episode = 0\n",
    "\n",
    "    episodes = {}\n",
    "\n",
    "    while True:\n",
    "        current_episode += 1\n",
    "        temp = f'.//div[@data-gv2containerkey=\"details_episodes\"]/div/div/div/div/div[{current_episode}]/div/div/div/a'\n",
    "        temp_name = f'.//div[@data-gv2containerkey=\"details_episodes\"]/div/div/div/div/div[{current_episode}]/div'\n",
    "        try:\n",
    "            link = driver.find_element(By.XPATH, temp).get_attribute(\"data-gv2elementvalue\")\n",
    "            chapter_name = driver.find_element(By.XPATH, temp_name).text\n",
    "        except:\n",
    "            serie[f\"season_{season}\"] = episodes\n",
    "            break\n",
    "\n",
    "        if chapter_name != \"\":\n",
    "            episodes[f\"episode_{current_episode}\"] = {\"link\": \"https://www.starplus.com/es-419/video/\"+link, \n",
    "                                                      \"chapter_name\": chapter_name}\n",
    "        \n",
    "        else:\n",
    "            try:\n",
    "                #get button to load more\n",
    "                path = './/button[@data-testid=\"arrow-right\"]'\n",
    "                load_more = driver.find_element(By.XPATH, path)\n",
    "                load_more.click()\n",
    "                time.sleep(2)\n",
    "                continue\n",
    "            except:\n",
    "                pass\n"
   ]
  },
  {
   "cell_type": "code",
   "execution_count": 95,
   "metadata": {},
   "outputs": [],
   "source": [
    "#save series to json\n",
    "import json\n",
    "\n",
    "with open('data.json', 'w') as fp:\n",
    "    json.dump(serie, fp)\n",
    "    "
   ]
  },
  {
   "cell_type": "code",
   "execution_count": null,
   "metadata": {},
   "outputs": [
    {
     "data": {
      "text/plain": [
       "{'season_1': {'links': 'https://www.starplus.com/es-419/video/ea314cde-c1bd-4926-b635-138cf8be4d53',\n",
       "  'chapter_names': ['1. Piloto (23 min)\\nTed comienza a contarles a sus hijos la historia de cómo conoció a su madre.',\n",
       "   '2. Jirafa púrpura (23 min)\\nTed organiza una fiesta con la esperanza de ver de nuevo a Robin.',\n",
       "   '3. El dulce sabor de la libertad (22 min)\\nLos agentes de seguridad del aeropuerto detienen a Barney y a Ted.',\n",
       "   '4. El regreso de la camiseta (23 min)\\nTed se reencuentra con un viejo amor.',\n",
       "   '5. ¡Okey, genial! (23 min)\\nRobin, Ted y Barney van a un nuevo club nocturno.',\n",
       "   '7. Agencia matrimonial (23 min)\\nTed contrata una agencia matrimonial.',\n",
       "   '8. El duelo (23 min)\\nLily se muda oficialmente con Marshall y Ted.',\n",
       "   '9. Atracón de pavo (23 min)\\nRobin, Barney y Ted son voluntarios en un refugio para gente sin hogar en el Día Acción de Gracias.',\n",
       "   '11. La limusina (23 min)\\nLa víspera de Año Nuevo se descontrola. Ted alquila una limusina para ir de fiesta con el grupo.',\n",
       "   '12. La boda (23 min)\\nTed invita a Robin a una boda elegante.',\n",
       "   '13. Un redoble, por favor (23 min)\\nTed conoce a una mujer interesante.',\n",
       "   '15. Noche de juegos (23 min)\\nLa noche de juegos de Marshall termina con unas sorprendentes y vergonzosas revelaciones.',\n",
       "   '16. Pastelito (23 min)\\nTed y Victoria deben tomar una decisión difícil.',\n",
       "   '17. La vida entre gorilas (23 min)\\nTed debe enfrentar las dificultades de una relación a distancia.',\n",
       "   '19. Mary, la asistente legal (23 min)\\nBarney le consigue una pareja a Ted para el banquete de premiación de Robin.',\n",
       "   '20. El mejor baile de graduación (23 min)\\nLily, Barney y Robin buscan una banda para la recepción de la boda.',\n",
       "   '21. Leche (23 min)\\nEl auto de Lily se avería en camino a una reunión secreta.']},\n",
       " 'season_2': {'links': 'https://www.starplus.com/es-419/video/8772e12b-8642-4225-ad57-b47cc869e973',\n",
       "  'chapter_names': ['1. ¿Dónde estábamos? (22 min)\\nLily viaja a San Francisco para inscribirse en un curso de arte.',\n",
       "   '2. El escorpión y el sapo (23 min)\\nLily regresa de San Francisco justo cuando Marshall finalmente está superando su ruptura.',\n",
       "   '3. Brunch (23 min)\\nLos padres de Ted vienen de visita y un sorprendente secreto familiar se revela durante el brunch.',\n",
       "   '4. Ted Mosby, arquitecto (23 min)\\nTed y Robin tienen su primera gran discusión.',\n",
       "   '5. La pareja más maravillosa del mundo (23 min)\\nLily se muda con Barney.',\n",
       "   '7. Swarley (23 min)\\nTed y Barney intentan convencer a Marshall de que su nueva novia está loca.',\n",
       "   '8. Atlantic City (23 min)\\nMarshall y Lily se fugan a Atlantic City para casarse y convencen al grupo de acompañarlos.',\n",
       "   '9. Apuesta de bofetadas (23 min)\\nLa aversión de Robin a los centros comerciales despierta la curiosidad de Ted sobre su secreto.',\n",
       "   '11. Cómo Lily se robó la Navidad (23 min)\\nUna fuerte discusión entre Ted y Lily casi arruina la Navidad.',\n",
       "   '12. La primera vez en Nueva York (23 min)\\nEl grupo se divierte con las locas historias de sus primeras experiencias sexuales.',\n",
       "   '13. Columnas (23 min)\\nEl grupo atormenta a Marshall cuando encuentran un retrato de él desnudo.',\n",
       "   '15. El centavo de la suerte (23 min)\\nTed reflexiona sobre los misterios del destino.',\n",
       "   '16. Cosas (23 min)\\nTed y Robin se aferran a objetos que han conservado de relaciones pasadas.',\n",
       "   '17. Arrivederci, Fiero (23 min)\\nEl Fiero de Marshall se daña y el grupo recuerda los buenos momentos pasados con ese viejo auto.',\n",
       "   '19. Despedida de soltero (23 min)\\nBarney arruina la despedida de soltero de Marshall.',\n",
       "   '20. Momento decisivo (23 min)\\nBarney está ilusionado por la oportunidad de cumplir uno de sus sueños.',\n",
       "   '21. Algo prestado (23 min)\\nCuando la boda soñada de Marshall y Lily comienza a salir mal, Ted y el grupo intervienen.']},\n",
       " 'season_3': {'links': 'https://www.starplus.com/es-419/video/4ecf3705-a7e5-4164-9e65-e37beb4da66b',\n",
       "  'chapter_names': ['1. Espera un momento (22 min)\\nRobin regresa de Argentina con un nuevo novio.',\n",
       "   '2. No somos de aquí (22 min)\\nBarney y Ted fingen ser de otra ciudad para conocer chicas.',\n",
       "   '3. El triciclo (23 min)\\nTed conoce a dos mujeres que se sienten atraídas por él.',\n",
       "   '4. Niños pequeños (23 min)\\nRobin, a quien no le gustan los niños, se lleva bien con el hijo pequeño del hombre con el que sale.',\n",
       "   '5. Cómo conocí a los demás (23 min)\\nTed tiene una nueva novia que se posiciona alto en la escala de locura que inventó Barney.',\n",
       "   '7. Dowisetrepla (22 min)\\nLily y Marshall deciden comprar un apartamento.',\n",
       "   '8. Desilusión (22 min)\\nTed cree que ha conocido a una chica maravillosa.',\n",
       "   '9. Acción de Gracias de bofetadas (23 min)\\nLily y Marshall son anfitriones de la cena de Acción de Gracias por primera vez como marido y mujer.',\n",
       "   '11. La regla de platino (22 min)\\nEl grupo intenta convencer a Ted de no invitar a su dermatóloga a salir.',\n",
       "   '12. No hay mañana (22 min)\\nTed sigue el ejemplo de Barney y vive como si no hubiera mañana.',\n",
       "   '13. Diez sesiones (23 min)\\nTed sigue coqueteando con su bella dermatóloga, a pesar del consejo que le ha dado del grupo.',\n",
       "   '15. La cadena de gritos (23 min)\\nMarshall se cuestiona el cambio que ha hecho en su carrera.',\n",
       "   '16. Castillos en la arena (23 min)\\nBarney le hace ver a Robin que ella es maravillosa.',\n",
       "   '17. La cabra (23 min)\\nBarney viola el \"código de hermanos\".',\n",
       "   '19. Todo debe irse (22 min)\\nReaparece la misteriosa rubia de Barney.',\n",
       "   '20. Milagros (23 min)\\nTed sufre un accidente, lo que lo lleva a replantearse su vida y su relación con Stella.']},\n",
       " 'season_4': {'links': 'https://www.starplus.com/es-419/video/f54f819a-38f1-40fe-a18e-83c26408e124',\n",
       "  'chapter_names': ['1. ¿Te conozco? (23 min)\\nStella responde a la propuesta de matrimonio de Ted. Barney descubre de que está enamorado de Robin.',\n",
       "   '2. La mejor hamburguesa de Nueva York (23 min)\\nMarshall, todavía desempleado, se obsesiona con encontrar la mejor hamburguesa de Nueva York.',\n",
       "   '3. Amo Nueva Jersey (23 min)\\nTed se asombra porque Stella desea que él se mude a su apartamento en Nueva Jersey luego de casarse.',\n",
       "   '4. La intervención (23 min)\\nTed insiste en que sus amigos hagan la intervención que habían planeado para cancelar su matrimonio.',\n",
       "   '5. Shelter Island (23 min)\\nLos planes improvisados de Ted y Stella se ven comprometidos por la presencia de sus ex.',\n",
       "   '7. Feliz día de no ser padre (23 min)\\nLily convence a Ted y a Robin de que la ayuden a tomar una decisión crucial.',\n",
       "   '8. ¡Wuuuu! (23 min)\\nRobin empieza a salir con un grupo de chicas solteras y fiesteras.',\n",
       "   '9. El hombre desnudo (22 min)\\nTed entra al apartamento y sorprende a la pareja de Robin sentado en el sofá y en cueros.',\n",
       "   '11. Pequeña Minesota (22 min)\\nTed trata de alejar a su hermana menor de Barney cuando esta viene de visita a Nueva York.',\n",
       "   '12. Amigos con derechos (22 min)\\nRobin y Ted ven que se llevan mejor como compañeros de apartamento si son \"amigos con derechos\".',\n",
       "   '13. Tres días de nevada (23 min)\\nEl grupo se niega a que una tormenta de nieve les arruine sus tradiciones para divertirse.',\n",
       "   '15. Los Stinsons (23 min)\\nEl grupo nota que Barney se comporta de manera extraña y sospechan que tienen una novia secreta.',\n",
       "   '16. Lo siento, hermano (23 min)\\nLily y Marshall revelan lo que realmente pensaban de Karen, la novia de Ted en la universidad.',\n",
       "   '17. La prueba del porche (23 min)\\nTed se entera de que Lily es la responsable de varias de sus rupturas amorosas.',\n",
       "   '19. Murtaugh (23 min)\\nTed hace una lista de actividades para las que, según él, el grupo está ya muy viejo.',\n",
       "   '20. Diseños Mosbius (22 min)\\nTed crea su propio estudio de arquitectura.',\n",
       "   '21. La regla de los tres días (23 min)\\nMarshall y Barney le hacen una broma a Ted fingiendo ser la chica a la que él le envía mensajes.',\n",
       "   '23. Tan rápida como ella pueda (23 min)\\nLa ex de Ted y su nuevo prometido regresan a su vida.',\n",
       "   '24. El salto (23 min)\\nTed se da cuenta de que necesita explorar otras opciones profesionales.']},\n",
       " 'season_5': {'links': 'https://www.starplus.com/es-419/video/2fe7e893-fb39-49e6-b96a-8230d9b88718',\n",
       "  'chapter_names': ['1. Definiciones (23 min)\\nEl grupo se entera de que Robin y Barney tienen un romance en secreto.',\n",
       "   '2. Cita doble (23 min)\\nEn una cita a ciegas, Ted se da cuenta de que había salido con la misma chica siete años atrás.',\n",
       "   '3. Robin 101 (23 min)\\nTed l uso bien sus conocimientos acerca de Robin y le enseña a Barney cómo ser novio de ella.',\n",
       "   '4. El posadero asexual (23 min)\\nMarshall y Lily van demasiado lejos para impresionar a Barney y a Robin en su primera cita doble.',\n",
       "   '5. Doble nacionalidad (23 min)\\nBarney intenta convencer a Robin de hacerse ciudadana estadounidense.',\n",
       "   '7. Un momento difícil (23 min)\\nEl grupo se da cuenta de que Barney y Robin son infelices juntos.',\n",
       "   '8. El libro de jugadas (23 min)\\nBarney saca a relucir todas sus habilidades para volver a conquistar chicas.',\n",
       "   '9. Acción de Gracias de bofetadas 2: la venganza de la bofetada (23 min)\\nEl padre de Lily, quien ha estado distanciado, llega de visita sorpresivamente.',\n",
       "   '11. El último cigarrillo (23 min)\\nEl grupo trata de dejar de fumar. Robin discute con su nuevo y hastiado compañero de trabajo.',\n",
       "   '12. Chicas vs. trajes (23 min)\\nBarney debe elegir entre acostarse con la atractiva camarera del bar o sus queridos trajes.',\n",
       "   '13. Jenkins (23 min)\\nMarshall intenta probarle a Lily que su atractiva colega le ha dado un beso.',\n",
       "   '15. Conejo o pato (23 min)\\nFalta una semana para San Valentín, y Ted le pide a Marshall y a Lily que le consigan una pareja.',\n",
       "   '16. Enganchado (23 min)\\nEl grupo intenta convencer a Ted de que Tiffany lo tiene enganchado.',\n",
       "   '17. Por supuesto (23 min)\\nRobin prepara un plan para vengarse de Barney por ser tan insensible al terminar su relación.',\n",
       "   '19. Verdadero o falso (23 min)\\nMarshall cuenta una enrevesada historia de cómo lo asaltaron.',\n",
       "   '20. Demoledores (23 min)\\nTed se siente rezagado en su vida.',\n",
       "   '21. Camas separadas (23 min)\\nTed y Barney se pelean por su amor por Robin.',\n",
       "   '23. La novia (22 min)\\nTed descubre que una película está engañosamente basada en la relación que tuvo con una exnovia.',\n",
       "   '24. Dobles (23 min)\\nMarshall y Lily dejan en manos del destino la decisión de tener o no un bebé.']},\n",
       " 'season_6': {'links': 'https://www.starplus.com/es-419/video/f8e2b10b-645d-4c00-bc84-dd3b56ee438a',\n",
       "  'chapter_names': ['1. Días grandiosos (23 min)\\nTed se encuentra con una exnovia con quien terminó en malos términos.',\n",
       "   '2. Limpiando la casa (23 min)\\nBarney descubre la verdad sobre su padre ayudando a su madre a guardar objetos de su hogar de niño.',\n",
       "   '3. Asuntos inconclusos (23 min)\\nBarney aplica sus tácticas de seducción en Ted para persuadirlo de aceptar una oferta de trabajo.',\n",
       "   '4. Carrera en el metro (23 min)\\nLos amigos compiten para ver quién llega más rápido a un restaurante en el centro de la ciudad.',\n",
       "   '5. El arquitecto de la destrucción (23 min)\\nTed se enamora de una chica cuya pasión podría interferir en su nuevo proyecto soñado.',\n",
       "   '7. El despido de Randy (23 min)\\nTed pierde control de sus estudiantes cuando Zoey se inscribe en su clase.',\n",
       "   '8. Historia natural (23 min)\\nTed se topa con su archienemiga y su esposo.',\n",
       "   '9. Glitter (23 min)\\nEl grupo anima a Robin a reencontrarse con su exmejor amiga.',\n",
       "   '11. La teoría de la sirena (23 min)\\nTed se hace amigo del esposo de Zoey.',\n",
       "   '12. Falso positivo (22 min)\\nMarshall y Lily reciben una noticia sorprendente que hace que el grupo reevalúe sus propias vidas.',\n",
       "   '13. Una mala noticia (23 min)\\nMarshall y Lily exageran luego de consultar a un especialista por la concepción de su bebé.',\n",
       "   '15. Ay, cariño (23 min)\\nTed se da cuenta de que siente algo por Zoey. Barney conquista a la prima de Zoey.',\n",
       "   '16. Día de la desesperación (23 min)\\nEl grupo se apresura a hacer planes para San Valentín y así no estar solos.',\n",
       "   '17. La isla de la basura (23 min)\\nMarshall se obsesiona con salvar al medio ambiente.',\n",
       "   '19. Un padre legendario (23 min)\\nFinalmente, Barney conoce a su padre.',\n",
       "   '20. El sándwich de albóndigas explosivo (23 min)\\nMarshall renuncia a su empleo para trabajar como voluntario en una organización ecológica.',\n",
       "   '21. Caso perdido (23 min)\\nBarney intenta formar vínculos con su padre.',\n",
       "   '23. Monumentos (23 min)\\nTed toma una decisión importante que afecta su relación con Zoey.',\n",
       "   '24. Desafío aceptado (23 min)\\nTed debe cumplir sus deberes como padrino en una boda muy importante.']},\n",
       " 'season_7': {'links': 'https://www.starplus.com/es-419/video/38170afd-05f6-4051-b915-153c0209ca7e',\n",
       "  'chapter_names': ['1. El padrino (23 min)\\nMientras Barney se prepara para su boda, él y Ted recuerdan el pasado.',\n",
       "   '2. La verdad al desnudo (23 min)\\nCuando Marshall consigue empleo, se preocupa por los videos que hizo en el pasado.',\n",
       "   '3. Corbata de patitos (23 min)\\nTed se topa con una exnovia y trata de hacer las paces con ella.',\n",
       "   '4. La crisis Stinson (23 min)\\nRobin agrede a una chica que pretende hacerle daño a Barney y debe ir a sesiones de terapia.',\n",
       "   '5. Excursión práctica (23 min)\\nAnte la actitud complaciente de su jefe, Marshall decide interferir.',\n",
       "   '7. Noretta (23 min)\\nEl grupo se da cuenta de que sus parejas le recuerdan a sus propios padres.',\n",
       "   '8. El regreso de la calabaza libertina (23 min)\\nTed por fin conoce a la misteriosa chica del disfraz libertino de calabaza.',\n",
       "   '9. Desastre evadido (23 min)\\nEl grupo recuerda lo que pasó durante el huracán Irene.',\n",
       "   '11. Un clavo saca otro clavo (23 min)\\nTed y Barney consideran tomar juntos una decisión crucial.',\n",
       "   '12. Sinfonía luminosa (23 min)\\nCuando Robin recibe una mala noticia, decide no contárselo al grupo.',\n",
       "   '13. El maletero (23 min)\\nTras celebrar el Año Nuevo, Marshall va a la tumba de su padre por la tradición de hacer un picnic.',\n",
       "   '15. El apicultor en llamas (22 min)\\nMarshall y Lily organizan una fiesta para estrenar la casa, pero sale mal.',\n",
       "   '16. El tren de los borrachos (23 min)\\nPara el Día de San Valentín, Lily y Marshall invitan a Robin y a Kevin a Vermont.',\n",
       "   '17. Sin presión (23 min)\\nTed le confiesa sus sentimientos a Robin.',\n",
       "   '19. El juramento hermanal (23 min)\\nBarney revela sus planes de mudarse con Quinn.',\n",
       "   '20. Es hora de una trilogía (23 min)\\nTed, Marshall y Barney ven la trilogía de La guerra de las galaxias cada tres años.',\n",
       "   '21. Ahora estamos a mano (23 min)\\nTed se instala solo en su nuevo apartamento y Barney lo anima a salir.',\n",
       "   '23. El código del mago, parte uno (23 min)\\nMientras Marshall está en Atlantic City con Barney, Lily va a dar luz.',\n",
       "   '24. El código del mago, parte dos (23 min)\\nMás adelante en el futuro, el grupo celebra la boda de Barney.']},\n",
       " 'season_8': {'links': 'https://www.starplus.com/es-419/video/8ab9837e-2adb-4fd1-9635-ed30cd04cc80',\n",
       "  'chapter_names': ['1. Más adelante en el camino (23 min)\\nRobin sufre de ansiedad el día de su boda con Barney.',\n",
       "   '2. El acuerdo prematrimonial (23 min)\\nBarney diseña un prenupcial complejo y los chicos proponen sus propias enmiendas.',\n",
       "   '3. Niñeras (23 min)\\nLily y Marshall tienen problemas para encontrar una niñera... debido a Barney.',\n",
       "   '4. ¿Quién quiere ser padrino? (22 min)\\nLily y Marshall no pueden decidirse por los padrinos.',\n",
       "   '5. El otoño de las rupturas (23 min)\\nA medida que continúan las rupturas, Ted y Victoria deben elegir su próximo paso.',\n",
       "   '7. Papel Mojado (23 min)\\nMarshall recomienda a su antiguo compañero de la facultad de derecho para un trabajo en su empresa.',\n",
       "   '8. Doce mujeres salidas (23 min)\\nMarshall se enfrenta a su viejo amigo Brad en el caso más importante de su carrera.',\n",
       "   '9. El gateo de la langosta (23 min)\\nRobin se decide a engancharse con Barney por última vez.',\n",
       "   '11. La última página, 1ª Parte (23 min)\\nCon la llegada de la Navidad, Barney le dice a Ted que planea proponer matrimonio.',\n",
       "   '12. La última página, 2ª Parte (23 min)\\nCon la Navidad acercándose, Barney planea proponerle matrimonio a Patrice.',\n",
       "   '13. Grupo o DJ (22 min)\\nRobin insiste en que Barney busca la aprobación de su padre antes de proponerle matrimonio.',\n",
       "   '15. P.D: Te quiero (23 min)\\nBarney descubre el episodio perdido de Robin como \"Robin Sparkles\".',\n",
       "   '16. Locura de la mala (23 min)\\nTed se resiste a romper con su loca novia Jeanette.',\n",
       "   '17. El cenicero (23 min)\\nTed recibe una llamada del Capitán y la pandilla lo recuerda.',\n",
       "   '19. La fortaleza (23 min)\\nRobin le pide a Barney que venda su piso de soltero para que puedan construir una nueva casa.',\n",
       "   '20. Viajeros en el tiempo (23 min)\\nLos Ted y Barney del futuro intentan convencer a Ted de ir a ver un combate.',\n",
       "   '21. Nos vamos a Roma (22 min)\\nEl Capitán le pide a Lily que se mude a Roma durante un año para ser su asesora de arte.',\n",
       "   '23. Algo viejo (22 min)\\nRobin está desesperada por encontrar su \"algo viejo\" que enterró en Central Park.',\n",
       "   '24. Algo nuevo (23 min)\\nEl final de la temporada 8 se desarrolla justo antes de la boda de Robin y Barney.']},\n",
       " 'season_9': {'links': 'https://www.starplus.com/es-419/video/aa039976-aef8-428a-aab6-ed2a037ef8d5',\n",
       "  'chapter_names': ['1. El medallón (22 min)\\nDe camino a Long Island, Robin y Barney hacen un descubrimiento sorprendente.',\n",
       "   '2. El regreso (22 min)\\nMarshall ve algo en línea que cambia el curso de su viaje hacia el este.',\n",
       "   '3. La última noche en Nueva York (23 min)\\nLily descubre la lista de cosas que Ted quiere hacer en Nueva York antes de mudarse.',\n",
       "   '4. La infracción del código (23 min)\\nBarney se enoja con Ted después de descubrir que todavía siente algo por Robin.',\n",
       "   '5. La partida de Póker (23 min)\\nBarney se ve obligado a tomar partido en una pelea entre Robin y su madre.',\n",
       "   '7. Nada de preguntas (23 min)\\nDaphne envía un mensaje de texto preocupante a Lily.',\n",
       "   '8. El faro (23 min)\\nBarney está atrapado en medio del creciente conflicto de Robin y Loretta.',\n",
       "   '9. Aplatonicado (23 min)\\nLa pandilla reflexiona sobre el futuro del triángulo amoroso de Ted, Robin y Barney.',\n",
       "   '11. Historias para dormir (22 min)\\nPara conseguir que su inquieto hijo se duerma, Marshall le cuenta tres cuentos.',\n",
       "   '12. Cena de ensayo (22 min)\\nBarney insiste en tener su cena de ensayo en un local de laser tag.',\n",
       "   '13. Se busca bajista (23 min)\\nLa pandilla se encuentra con un chico en la boda que provoca problemas entre ellos.',\n",
       "   '15. Fuera pausa (23 min)\\nCuando Barney bebe demasiado, Ted y Robin se aprovechan de él.',\n",
       "   '16. Cómo me conoció tu madre (24 min)\\nLa Madre cuenta cómo conoció a Ted.',\n",
       "   '17. Amanecer (23 min)\\nRobin y Ted buscan a Barney ebrio el día de su boda.',\n",
       "   '19. Vesubio (23 min)\\nLa mañana de la boda, Lily y Robin se pelean.',\n",
       "   '20. Margarita (23 min)\\nMarshall recluta a Ted y Barney para que lo ayuden a averiguar a dónde fue Lily.',\n",
       "   '21. Gary Blauman (23 min)\\nCuando Gary Blauman aparece en la boda, la pandilla se vuelve loca.',\n",
       "   '23. Juntos para siempre (1ª parte) (22 min)\\nTed finalmente termina de contarles a sus hijos la historia de cómo conoció a su madre.',\n",
       "   '24. Juntos para siempre (2ª parte) (22 min)\\nTed finalmente termina de contarles a sus hijos la historia de cómo conoció a su madre.']}}"
      ]
     },
     "execution_count": 81,
     "metadata": {},
     "output_type": "execute_result"
    }
   ],
   "source": [
    "#I want to add to each link \"https://www.starplus.com/es-419/video/\"\n",
    "\n",
    "for season in serie:\n",
    "    for link in serie[season][\"links\"]:\n",
    "        link = \"https://www.starplus.com/es-419/video/\"+link\n",
    "        serie[season][\"links\"] = link\n",
    "\n",
    "\n",
    "serie\n",
    "        "
   ]
  }
 ],
 "metadata": {
  "kernelspec": {
   "display_name": "Python 3.9.6 64-bit",
   "language": "python",
   "name": "python3"
  },
  "language_info": {
   "codemirror_mode": {
    "name": "ipython",
    "version": 3
   },
   "file_extension": ".py",
   "mimetype": "text/x-python",
   "name": "python",
   "nbconvert_exporter": "python",
   "pygments_lexer": "ipython3",
   "version": "3.9.6"
  },
  "orig_nbformat": 4,
  "vscode": {
   "interpreter": {
    "hash": "31f2aee4e71d21fbe5cf8b01ff0e069b9275f58929596ceb00d14d90e3e16cd6"
   }
  }
 },
 "nbformat": 4,
 "nbformat_minor": 2
}
